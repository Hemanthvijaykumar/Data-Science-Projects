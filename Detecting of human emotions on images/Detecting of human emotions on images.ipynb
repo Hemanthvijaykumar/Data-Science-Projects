{
 "cells": [
  {
   "cell_type": "markdown",
   "metadata": {},
   "source": [
    "# Let's build a Little VGG for our model"
   ]
  },
  {
   "cell_type": "code",
   "execution_count": 1,
   "metadata": {},
   "outputs": [
    {
     "name": "stderr",
     "output_type": "stream",
     "text": [
      "Using TensorFlow backend.\n"
     ]
    }
   ],
   "source": [
    "#importing the libraries\n",
    "import numpy as np\n",
    "import keras\n",
    "import cv2\n",
    "import pandas as pd\n",
    "import matplotlib.pyplot as plt\n",
    "%matplotlib inline\n",
    "from keras.preprocessing.image import ImageDataGenerator\n",
    "from keras.models import Sequential\n",
    "from keras.layers import Dense, Dropout, BatchNormalization, Flatten, Activation\n",
    "from keras.layers.convolutional import Conv2D\n",
    "from keras.layers.pooling import MaxPooling2D\n",
    "from keras.layers.advanced_activations import ELU\n",
    "import os"
   ]
  },
  {
   "cell_type": "code",
   "execution_count": 2,
   "metadata": {},
   "outputs": [],
   "source": [
    "num_classes = 6\n",
    "img_rows = 48\n",
    "img_cols = 48\n",
    "batch_size = 16"
   ]
  },
  {
   "cell_type": "code",
   "execution_count": 3,
   "metadata": {},
   "outputs": [],
   "source": [
    "#Path of the images\n",
    "train_data_dir = './train/'\n",
    "validation_data_dir = './validation/'"
   ]
  },
  {
   "cell_type": "code",
   "execution_count": 4,
   "metadata": {},
   "outputs": [
    {
     "name": "stdout",
     "output_type": "stream",
     "text": [
      "Found 28273 images belonging to 6 classes.\n",
      "Found 3534 images belonging to 6 classes.\n"
     ]
    }
   ],
   "source": [
    "#Lets use the data augmentation\n",
    "train_datagen = ImageDataGenerator(\n",
    "      rescale=1./255,\n",
    "      rotation_range=30,\n",
    "      shear_range=0.3,\n",
    "      zoom_range=0.3,\n",
    "      width_shift_range=0.4,\n",
    "      height_shift_range=0.4,\n",
    "      horizontal_flip=True,\n",
    "      fill_mode='nearest')\n",
    "\n",
    "validation_datagen = ImageDataGenerator(rescale=1./255)\n",
    "\n",
    "train_set = train_datagen.flow_from_directory(\n",
    "        train_data_dir,\n",
    "        color_mode = 'grayscale',\n",
    "        target_size=(img_rows, img_cols),\n",
    "        batch_size=batch_size,\n",
    "        class_mode='categorical',\n",
    "        shuffle=True)\n",
    " \n",
    "validation_set = validation_datagen.flow_from_directory(\n",
    "        validation_data_dir,\n",
    "        color_mode = 'grayscale',\n",
    "        target_size=(img_rows, img_cols),\n",
    "        batch_size=batch_size,\n",
    "        class_mode='categorical',\n",
    "        shuffle=True)"
   ]
  },
  {
   "cell_type": "markdown",
   "metadata": {},
   "source": [
    "## Little VGG model"
   ]
  },
  {
   "cell_type": "code",
   "execution_count": 5,
   "metadata": {
    "scrolled": true
   },
   "outputs": [
    {
     "name": "stdout",
     "output_type": "stream",
     "text": [
      "_________________________________________________________________\n",
      "Layer (type)                 Output Shape              Param #   \n",
      "=================================================================\n",
      "conv2d_1 (Conv2D)            (None, 48, 48, 32)        320       \n",
      "_________________________________________________________________\n",
      "activation_1 (Activation)    (None, 48, 48, 32)        0         \n",
      "_________________________________________________________________\n",
      "batch_normalization_1 (Batch (None, 48, 48, 32)        128       \n",
      "_________________________________________________________________\n",
      "conv2d_2 (Conv2D)            (None, 48, 48, 32)        9248      \n",
      "_________________________________________________________________\n",
      "activation_2 (Activation)    (None, 48, 48, 32)        0         \n",
      "_________________________________________________________________\n",
      "batch_normalization_2 (Batch (None, 48, 48, 32)        128       \n",
      "_________________________________________________________________\n",
      "max_pooling2d_1 (MaxPooling2 (None, 24, 24, 32)        0         \n",
      "_________________________________________________________________\n",
      "dropout_1 (Dropout)          (None, 24, 24, 32)        0         \n",
      "_________________________________________________________________\n",
      "conv2d_3 (Conv2D)            (None, 24, 24, 64)        18496     \n",
      "_________________________________________________________________\n",
      "activation_3 (Activation)    (None, 24, 24, 64)        0         \n",
      "_________________________________________________________________\n",
      "batch_normalization_3 (Batch (None, 24, 24, 64)        256       \n",
      "_________________________________________________________________\n",
      "conv2d_4 (Conv2D)            (None, 24, 24, 64)        36928     \n",
      "_________________________________________________________________\n",
      "activation_4 (Activation)    (None, 24, 24, 64)        0         \n",
      "_________________________________________________________________\n",
      "batch_normalization_4 (Batch (None, 24, 24, 64)        256       \n",
      "_________________________________________________________________\n",
      "max_pooling2d_2 (MaxPooling2 (None, 12, 12, 64)        0         \n",
      "_________________________________________________________________\n",
      "dropout_2 (Dropout)          (None, 12, 12, 64)        0         \n",
      "_________________________________________________________________\n",
      "conv2d_5 (Conv2D)            (None, 12, 12, 128)       73856     \n",
      "_________________________________________________________________\n",
      "activation_5 (Activation)    (None, 12, 12, 128)       0         \n",
      "_________________________________________________________________\n",
      "batch_normalization_5 (Batch (None, 12, 12, 128)       512       \n",
      "_________________________________________________________________\n",
      "conv2d_6 (Conv2D)            (None, 12, 12, 128)       147584    \n",
      "_________________________________________________________________\n",
      "activation_6 (Activation)    (None, 12, 12, 128)       0         \n",
      "_________________________________________________________________\n",
      "batch_normalization_6 (Batch (None, 12, 12, 128)       512       \n",
      "_________________________________________________________________\n",
      "max_pooling2d_3 (MaxPooling2 (None, 6, 6, 128)         0         \n",
      "_________________________________________________________________\n",
      "dropout_3 (Dropout)          (None, 6, 6, 128)         0         \n",
      "_________________________________________________________________\n",
      "conv2d_7 (Conv2D)            (None, 6, 6, 256)         295168    \n",
      "_________________________________________________________________\n",
      "activation_7 (Activation)    (None, 6, 6, 256)         0         \n",
      "_________________________________________________________________\n",
      "batch_normalization_7 (Batch (None, 6, 6, 256)         1024      \n",
      "_________________________________________________________________\n",
      "conv2d_8 (Conv2D)            (None, 6, 6, 256)         590080    \n",
      "_________________________________________________________________\n",
      "activation_8 (Activation)    (None, 6, 6, 256)         0         \n",
      "_________________________________________________________________\n",
      "batch_normalization_8 (Batch (None, 6, 6, 256)         1024      \n",
      "_________________________________________________________________\n",
      "max_pooling2d_4 (MaxPooling2 (None, 3, 3, 256)         0         \n",
      "_________________________________________________________________\n",
      "dropout_4 (Dropout)          (None, 3, 3, 256)         0         \n",
      "_________________________________________________________________\n",
      "flatten_1 (Flatten)          (None, 2304)              0         \n",
      "_________________________________________________________________\n",
      "dense_1 (Dense)              (None, 64)                147520    \n",
      "_________________________________________________________________\n",
      "activation_9 (Activation)    (None, 64)                0         \n",
      "_________________________________________________________________\n",
      "batch_normalization_9 (Batch (None, 64)                256       \n",
      "_________________________________________________________________\n",
      "dropout_5 (Dropout)          (None, 64)                0         \n",
      "_________________________________________________________________\n",
      "dense_2 (Dense)              (None, 64)                4160      \n",
      "_________________________________________________________________\n",
      "activation_10 (Activation)   (None, 64)                0         \n",
      "_________________________________________________________________\n",
      "batch_normalization_10 (Batc (None, 64)                256       \n",
      "_________________________________________________________________\n",
      "dropout_6 (Dropout)          (None, 64)                0         \n",
      "_________________________________________________________________\n",
      "dense_3 (Dense)              (None, 6)                 390       \n",
      "_________________________________________________________________\n",
      "activation_11 (Activation)   (None, 6)                 0         \n",
      "=================================================================\n",
      "Total params: 1,328,102\n",
      "Trainable params: 1,325,926\n",
      "Non-trainable params: 2,176\n",
      "_________________________________________________________________\n",
      "None\n"
     ]
    }
   ],
   "source": [
    "model = Sequential()\n",
    "\n",
    "#Block 1 CONV ==> RELU ==> CONV ==> RELU ==> POOLING\n",
    "model.add(Conv2D(filters=32, kernel_size=(3,3), padding='same', kernel_initializer='he_normal', input_shape=(img_rows, img_cols, 1)))\n",
    "model.add(Activation('elu'))\n",
    "model.add(BatchNormalization())\n",
    "model.add(Conv2D(32, kernel_size=(3,3) , padding='same', kernel_initializer='he_normal', input_shape=(img_rows, img_cols, 1)))\n",
    "model.add(Activation('elu'))\n",
    "model.add(BatchNormalization())\n",
    "model.add(MaxPooling2D(pool_size=(2,2)))\n",
    "model.add(Dropout(0.2))\n",
    "\n",
    "#Block 2 CONV ==> RELU ==> CONV ==> RELU ==> POOLING\n",
    "model.add(Conv2D(filters=64, kernel_size=(3,3), padding='same', kernel_initializer='he_normal'))\n",
    "model.add(Activation('elu'))\n",
    "model.add(BatchNormalization())\n",
    "model.add(Conv2D(filters=64, kernel_size=(3,3), padding='same', kernel_initializer='he_normal'))\n",
    "model.add(Activation('elu'))\n",
    "model.add(BatchNormalization())\n",
    "model.add(MaxPooling2D(pool_size=(2,2)))\n",
    "model.add(Dropout(0.2))\n",
    "\n",
    "#Blcok 3 CONV ==> RELU ==> CONV ==> RELU ==> POOLING\n",
    "model.add(Conv2D(filters=128, kernel_size=(3,3), padding='same', kernel_initializer='he_normal'))\n",
    "model.add(Activation('elu'))\n",
    "model.add(BatchNormalization())\n",
    "model.add(Conv2D(filters=128, kernel_size=(3,3), padding='same', kernel_initializer='he_normal'))\n",
    "model.add(Activation('elu'))\n",
    "model.add(BatchNormalization())\n",
    "model.add(MaxPooling2D(pool_size=(2,2)))\n",
    "model.add(Dropout(0.2))\n",
    "\n",
    "#Blcok 4 CONV ==> RELU ==> CONV ==> RELU ==> POOLING\n",
    "model.add(Conv2D(filters=256, kernel_size=(3,3), padding='same', kernel_initializer='he_normal'))\n",
    "model.add(Activation('elu'))\n",
    "model.add(BatchNormalization())\n",
    "model.add(Conv2D(filters=256, kernel_size=(3,3), padding='same', kernel_initializer='he_normal'))\n",
    "model.add(Activation('elu'))\n",
    "model.add(BatchNormalization())\n",
    "model.add(MaxPooling2D(pool_size=(2,2)))\n",
    "model.add(Dropout(0.2))\n",
    "\n",
    "#BLOCK 5: first set of FC ==> RELU layers\n",
    "model.add(Flatten())\n",
    "model.add(Dense(units=64, kernel_initializer='he_normal'))\n",
    "model.add(Activation('elu'))\n",
    "model.add(BatchNormalization())\n",
    "model.add(Dropout(0.5))\n",
    "\n",
    "#BLOCK 6: second set of FC ==> RELU layers\n",
    "model.add(Dense(units=64, kernel_initializer='he_normal'))\n",
    "model.add(Activation('elu'))\n",
    "model.add(BatchNormalization())\n",
    "model.add(Dropout(0.5))\n",
    "\n",
    "#Block 7: softmax classifier\n",
    "model.add(Dense(units = num_classes, kernel_initializer='he_normal' ))\n",
    "model.add(Activation('softmax'))\n",
    "\n",
    "#print the model\n",
    "print(model.summary())"
   ]
  },
  {
   "cell_type": "markdown",
   "metadata": {},
   "source": [
    "## Compiling the model"
   ]
  },
  {
   "cell_type": "code",
   "execution_count": 6,
   "metadata": {},
   "outputs": [],
   "source": [
    "from keras.optimizers import Adam, RMSprop, SGD\n",
    "from keras.callbacks import ModelCheckpoint, ReduceLROnPlateau, EarlyStopping\n",
    "\n",
    "checkpoint = ModelCheckpoint(r'D:\\\\Backup_of_exact_MY_REPO\\\\Detection of human emotions on images\\\\human_emotion.h5',\n",
    "                            monitor = 'val_loss',\n",
    "                            mode='min',\n",
    "                            save_best_only=True,\n",
    "                            verbose=1)\n",
    "\n",
    "early_stop = EarlyStopping(monitor='val_loss', min_delta=0, patience=3, verbose=1, restore_best_weights=True)\n",
    "\n",
    "reduce_lr = ReduceLROnPlateau(monitor='val_loss', factor=0.2, patience=3, verbose=1, min_delta=0.0001)\n",
    "\n",
    "callbacks = [checkpoint, early_stop, reduce_lr]\n",
    "\n",
    "#compile the model\n",
    "model.compile(loss='categorical_crossentropy', optimizer=Adam(lr=0.0001), metrics=['accuracy'])"
   ]
  },
  {
   "cell_type": "markdown",
   "metadata": {},
   "source": [
    "## Fitting the model"
   ]
  },
  {
   "cell_type": "code",
   "execution_count": 7,
   "metadata": {},
   "outputs": [],
   "source": [
    "images_on_training_set = 28273\n",
    "images_on_validation_set = 3534\n",
    "epochs = 10"
   ]
  },
  {
   "cell_type": "code",
   "execution_count": null,
   "metadata": {},
   "outputs": [],
   "source": [
    "history = model.fit_generator(train_set, \n",
    "                              steps_per_epoch = images_on_training_set//batch_size , \n",
    "                              epochs= epochs, \n",
    "                              verbose=1,\n",
    "                             callbacks=callbacks, \n",
    "                              validation_data = validation_set,\n",
    "                             validation_steps = images_on_validation_set//batch_size)"
   ]
  },
  {
   "cell_type": "markdown",
   "metadata": {},
   "source": [
    "I ran the model with the same parameters in the another machine which having higher computation speed than this and and i got the model saved. Now i am going to get the model from there rather than running the above one."
   ]
  },
  {
   "cell_type": "code",
   "execution_count": 8,
   "metadata": {},
   "outputs": [],
   "source": [
    "#Loading the model\n",
    "from keras.models import load_model\n",
    "classifier = load_model(r'C:\\\\Users\\\\Dell\\\\Desktop\\\\KPML_practice\\\\Master Computer Vision\\\\DeepLearningCV\\\\Trained Models\\\\emotion_little_vgg_3.h5')"
   ]
  },
  {
   "cell_type": "code",
   "execution_count": 9,
   "metadata": {},
   "outputs": [],
   "source": [
    "num_train = 28273\n",
    "num_val = 3534"
   ]
  },
  {
   "cell_type": "code",
   "execution_count": 10,
   "metadata": {},
   "outputs": [
    {
     "name": "stdout",
     "output_type": "stream",
     "text": [
      "Found 3534 images belonging to 6 classes.\n"
     ]
    }
   ],
   "source": [
    "#here we need to create the validation generator with shuffle = false to get the prediction correct for each class\n",
    "validation_generator = validation_datagen.flow_from_directory(\n",
    "                                                            validation_data_dir,\n",
    "                                                            color_mode = 'grayscale',\n",
    "                                                            target_size=(img_rows, img_cols),\n",
    "                                                            batch_size=batch_size,\n",
    "                                                            class_mode='categorical',\n",
    "                                                            shuffle= False)\n",
    "\n",
    "#predicting the validation set\n",
    "y_pred = classifier.predict_generator(validation_generator, num_val//batch_size+1)"
   ]
  },
  {
   "cell_type": "code",
   "execution_count": 11,
   "metadata": {},
   "outputs": [
    {
     "data": {
      "text/plain": [
       "array([0.54059464, 0.24996917, 0.06406295, 0.01067813, 0.07242453,\n",
       "       0.06227062], dtype=float32)"
      ]
     },
     "execution_count": 11,
     "metadata": {},
     "output_type": "execute_result"
    }
   ],
   "source": [
    "y_pred[1]"
   ]
  },
  {
   "cell_type": "markdown",
   "metadata": {},
   "source": [
    "we can see that the y_pred is in probabilities and we need to convert it"
   ]
  },
  {
   "cell_type": "code",
   "execution_count": 12,
   "metadata": {},
   "outputs": [],
   "source": [
    "y_pred = np.argmax(y_pred, axis=1)"
   ]
  },
  {
   "cell_type": "code",
   "execution_count": 13,
   "metadata": {},
   "outputs": [
    {
     "data": {
      "text/plain": [
       "0"
      ]
     },
     "execution_count": 13,
     "metadata": {},
     "output_type": "execute_result"
    }
   ],
   "source": [
    "y_pred[1]"
   ]
  },
  {
   "cell_type": "markdown",
   "metadata": {},
   "source": [
    "## Confusion matrix"
   ]
  },
  {
   "cell_type": "code",
   "execution_count": 14,
   "metadata": {},
   "outputs": [],
   "source": [
    "from sklearn.metrics import confusion_matrix, classification_report\n",
    "cm = confusion_matrix(y_pred, validation_generator.classes)"
   ]
  },
  {
   "cell_type": "code",
   "execution_count": 15,
   "metadata": {},
   "outputs": [
    {
     "data": {
      "text/plain": [
       "array([[182,  89,  24,  83,  39,  11],\n",
       "       [ 42,  37,  12,  32,  29,  23],\n",
       "       [ 33,  39, 749, 154,  54,  24],\n",
       "       [100, 130,  54, 173, 222,  20],\n",
       "       [ 99,  97,  11,  90, 229,   9],\n",
       "       [ 35, 136,  29,  94,  21, 329]], dtype=int64)"
      ]
     },
     "execution_count": 15,
     "metadata": {},
     "output_type": "execute_result"
    }
   ],
   "source": [
    "cm"
   ]
  },
  {
   "cell_type": "markdown",
   "metadata": {},
   "source": [
    "## Get our class labels"
   ]
  },
  {
   "cell_type": "code",
   "execution_count": 16,
   "metadata": {},
   "outputs": [
    {
     "name": "stdout",
     "output_type": "stream",
     "text": [
      "{'Angry': 0, 'Fear': 1, 'Happy': 2, 'Neutral': 3, 'Sad': 4, 'Surprise': 5}\n"
     ]
    }
   ],
   "source": [
    "class_indices = validation_set.class_indices\n",
    "print(class_indices)"
   ]
  },
  {
   "cell_type": "code",
   "execution_count": 17,
   "metadata": {},
   "outputs": [
    {
     "data": {
      "text/plain": [
       "dict_items([('Angry', 0), ('Fear', 1), ('Happy', 2), ('Neutral', 3), ('Sad', 4), ('Surprise', 5)])"
      ]
     },
     "execution_count": 17,
     "metadata": {},
     "output_type": "execute_result"
    }
   ],
   "source": [
    "class_indices.items()"
   ]
  },
  {
   "cell_type": "code",
   "execution_count": 18,
   "metadata": {},
   "outputs": [
    {
     "name": "stdout",
     "output_type": "stream",
     "text": [
      "{'Angry': 0, 'Fear': 1, 'Happy': 2, 'Neutral': 3, 'Sad': 4, 'Surprise': 5}\n"
     ]
    }
   ],
   "source": [
    "classes_labels = {v:k for k,v in class_indices.items()}\n",
    "print(class_indices)"
   ]
  },
  {
   "cell_type": "code",
   "execution_count": 19,
   "metadata": {},
   "outputs": [
    {
     "name": "stdout",
     "output_type": "stream",
     "text": [
      "['Angry', 'Fear', 'Happy', 'Neutral', 'Sad', 'Surprise']\n"
     ]
    }
   ],
   "source": [
    "classes = list(classes_labels.values())\n",
    "print(classes)"
   ]
  },
  {
   "cell_type": "code",
   "execution_count": 20,
   "metadata": {},
   "outputs": [
    {
     "data": {
      "text/plain": [
       "([<matplotlib.axis.YTick at 0x2b8446a1390>,\n",
       "  <matplotlib.axis.YTick at 0x2b844692c88>,\n",
       "  <matplotlib.axis.YTick at 0x2b827bc06d8>,\n",
       "  <matplotlib.axis.YTick at 0x2b84471a748>,\n",
       "  <matplotlib.axis.YTick at 0x2b84471ac18>,\n",
       "  <matplotlib.axis.YTick at 0x2b844721160>],\n",
       " <a list of 6 Text yticklabel objects>)"
      ]
     },
     "execution_count": 20,
     "metadata": {},
     "output_type": "execute_result"
    },
    {
     "data": {
      "image/png": "[encoded data removed]",
      "text/plain": [
       "<Figure size 432x432 with 2 Axes>"
      ]
     },
     "metadata": {},
     "output_type": "display_data"
    }
   ],
   "source": [
    "#plot confusion matrix\n",
    "plt.figure(figsize=(6,6))\n",
    "plt.imshow(cm)\n",
    "plt.colorbar()\n",
    "plt.xticks(np.arange(len(classes)), classes, rotation=45)\n",
    "plt.yticks(np.arange(len(classes)), classes)"
   ]
  },
  {
   "cell_type": "markdown",
   "metadata": {},
   "source": [
    "## Let's test on some of the validation images"
   ]
  },
  {
   "cell_type": "code",
   "execution_count": 21,
   "metadata": {
    "scrolled": false
   },
   "outputs": [
    {
     "name": "stdout",
     "output_type": "stream",
     "text": [
      "2\n",
      "label_of_image: Happy\n",
      "C:/Users/Dell/Desktop/MY_REPO/Data-Science-Projects/Detecting of human emotions on images and webcam/validation/Happy/696.jpg\n",
      "3\n",
      "label_of_image: Neutral\n",
      "C:/Users/Dell/Desktop/MY_REPO/Data-Science-Projects/Detecting of human emotions on images and webcam/validation/Neutral/201.jpg\n",
      "4\n",
      "label_of_image: Sad\n",
      "C:/Users/Dell/Desktop/MY_REPO/Data-Science-Projects/Detecting of human emotions on images and webcam/validation/Sad/347.jpg\n",
      "5\n",
      "label_of_image: Surprise\n",
      "C:/Users/Dell/Desktop/MY_REPO/Data-Science-Projects/Detecting of human emotions on images and webcam/validation/Surprise/94.jpg\n",
      "0\n",
      "label_of_image: Angry\n",
      "C:/Users/Dell/Desktop/MY_REPO/Data-Science-Projects/Detecting of human emotions on images and webcam/validation/Angry/126.jpg\n",
      "4\n",
      "label_of_image: Sad\n",
      "C:/Users/Dell/Desktop/MY_REPO/Data-Science-Projects/Detecting of human emotions on images and webcam/validation/Sad/160.jpg\n",
      "4\n",
      "label_of_image: Sad\n",
      "C:/Users/Dell/Desktop/MY_REPO/Data-Science-Projects/Detecting of human emotions on images and webcam/validation/Sad/188.jpg\n",
      "5\n",
      "label_of_image: Surprise\n",
      "C:/Users/Dell/Desktop/MY_REPO/Data-Science-Projects/Detecting of human emotions on images and webcam/validation/Surprise/133.jpg\n",
      "4\n",
      "label_of_image: Sad\n",
      "C:/Users/Dell/Desktop/MY_REPO/Data-Science-Projects/Detecting of human emotions on images and webcam/validation/Sad/186.jpg\n",
      "3\n",
      "label_of_image: Neutral\n",
      "C:/Users/Dell/Desktop/MY_REPO/Data-Science-Projects/Detecting of human emotions on images and webcam/validation/Neutral/114.jpg\n"
     ]
    }
   ],
   "source": [
    "import os\n",
    "import random\n",
    "from keras.preprocessing import image\n",
    "\n",
    "\n",
    "def draw_test(name, pred, im, true_label):\n",
    "    Black = [0,0,0]\n",
    "    expanded_image = cv2.copyMakeBorder(im, 160, 0,0 , 300, cv2.BORDER_CONSTANT, value=Black)\n",
    "    cv2.putText(expanded_image, 'Predicted -' +str(pred), (20,60), cv2.FONT_HERSHEY_SCRIPT_SIMPLEX, 1, (0,0,255), 2)\n",
    "    cv2.putText(expanded_image, 'true -' +str(true_label), (20, 120), cv2.FONT_HERSHEY_SCRIPT_SIMPLEX, 1, (0,0,255), 2)\n",
    "    cv2.imshow(name, expanded_image)\n",
    "    cv2.imwrite('predicted_image{}.jpg'.format(pred), expanded_image)\n",
    "    \n",
    "    \n",
    "    \n",
    "def random_img_from_val_dir(path):\n",
    "    #folders inisde validation dir \n",
    "    folder_inside_val = os.listdir(path)\n",
    "    \n",
    "    #getting random folder number\n",
    "    n_folders = 6\n",
    "    random_folder_number = random.choice(list(range(0, n_folders)))\n",
    "    print(random_folder_number)\n",
    "    print('label_of_image:' ,classes[random_folder_number])\n",
    "    \n",
    "    #listing files inside the random folder\n",
    "    files_inside_rf = os.listdir(os.path.join(path, folder_inside_val[random_folder_number]))\n",
    "    \n",
    "    #selecting random image inside the selected random folder\n",
    "    random_image_path = os.path.join(path + folder_inside_val[random_folder_number] + '/' +random.choice(files_inside_rf))\n",
    "    print(random_image_path)\n",
    "    \n",
    "    #getting the array of pixels of the random image and convert it into gray\n",
    "    random_image = cv2.imread(random_image_path, 0)\n",
    "    \n",
    "    return random_image, random_image_path, random_folder_number\n",
    "\n",
    "files = []\n",
    "true_labels = []\n",
    "predicted_images = []\n",
    "#predicting images\n",
    "for i in range(0,10):\n",
    "    path_for_random = 'C:/Users/Dell/Desktop/MY_REPO/Data-Science-Projects/Detecting of human emotions on images/validation/'\n",
    "    img, image_path, true_label =random_img_from_val_dir(path_for_random)\n",
    "    files.append(image_path)\n",
    "    true_labels.append(classes[true_label])\n",
    "    x = img/255\n",
    "    x = np.expand_dims(x, axis = 2) # here axis=2 to get the shape of the image (48,48,1)\n",
    "    image = x.reshape(-1, img_rows, img_cols, 1)\n",
    "    #images = np.vstack([x])\n",
    "    predictions_proba = model.predict(image, batch_size=10)\n",
    "    predictions = np.argmax(predictions_proba, axis=1)\n",
    "    predicted_images.append(predictions)\n",
    "    \n",
    "for i in range(0, len(files)):\n",
    "    image = cv2.imread((files[i]))\n",
    "    image = cv2.resize(image, None, fx=3, fy=3, interpolation = cv2.INTER_CUBIC)\n",
    "    draw_test(\"Prediction\", classes[predicted_images[i][0]], image, true_labels[i])\n",
    "    cv2.waitKey(0)\n",
    "\n",
    "cv2.destroyAllWindows()"
   ]
  },
  {
   "cell_type": "markdown",
   "metadata": {},
   "source": [
    "## Testing on own single image"
   ]
  },
  {
   "cell_type": "code",
   "execution_count": 92,
   "metadata": {},
   "outputs": [],
   "source": [
    "from keras.preprocessing.image import img_to_array\n",
    "face_classifier = cv2.CascadeClassifier(r'C:\\\\Users\\\\Dell\\\\Desktop\\\\KPML_practice\\\\Master Computer Vision\\Master OpenCV\\\\Haarcascades\\haarcascade_frontalface_default.xml')\n",
    "\n",
    "def detect_face_in_image(img):\n",
    "    #convert to gray scale\n",
    "    gray = cv2.cvtColor(img, cv2.COLOR_BGR2GRAY)\n",
    "    \n",
    "    #finding faces in image using cascade\n",
    "    faces = face_classifier.detectMultiScale(gray, 1.3, 5)\n",
    "    \n",
    "    #if there is no face\n",
    "    if faces is ():\n",
    "        return (0,0,0,0) , np.zeros(shape=(0,0), dtype=np.uint8) , img\n",
    "    \n",
    "    #if there is a face\n",
    "    all_faces = []\n",
    "    rects = []\n",
    "    for (x,y,w,h) in faces:\n",
    "        rects.append((x,y,w,h))\n",
    "        \n",
    "        #draw rectangle on the image using x,y,w,h\n",
    "        cv2.rectangle(img, (x,y), (x+w, y+h), (0,0,255), 2)\n",
    "        \n",
    "        #get the region of interset for the faces in the image\n",
    "        roi_gray = gray[y:y+h , x:x+w]\n",
    "        roi_gray = cv2.resize(roi_gray, (48,48), interpolation=cv2.INTER_AREA)\n",
    "        \n",
    "        #get the roi of faces\n",
    "        all_faces.append(roi_gray)\n",
    "        \n",
    "    return rects, all_faces, img\n",
    "\n",
    "img = cv2.imread(r'C:\\\\Users\\\\Dell\\\\Desktop\\\\KPML_practice\\\\Master Computer Vision\\\\Master OpenCV\\\\images\\Hillary.jpg')\n",
    "rects, all_faces, image = detect_face_in_image(img)\n",
    "\n",
    "for face in all_faces:\n",
    "    roi = face.astype('float') / 255  # here we are represent it as float since it has to give float values not uint8\n",
    "    roi = img_to_array(roi)\n",
    "    roi = np.reshape(roi, (-1,48,48,1))\n",
    "    \n",
    "    # make a prediction on the ROI, then lookup the class\n",
    "    preds = classifier.predict(roi)[0]\n",
    "    label = classes[preds.argmax()] \n",
    "    \n",
    "    ##Overlay our detected emotion on our pic\n",
    "    cv2.putText(image, label ,(rects[0][0] -10, rects[0][3]-80), cv2.FONT_HERSHEY_SIMPLEX, 1, (0,0,0), 2)\n",
    "    \n",
    "cv2.imshow(\"Emotion Detector\", image)\n",
    "cv2.imwrite('tested_image.jpg', image)\n",
    "cv2.waitKey(0)\n",
    "\n",
    "cv2.destroyAllWindows()"
   ]
  },
  {
   "cell_type": "markdown",
   "metadata": {},
   "source": [
    "# That's the end of the code"
   ]
  }
 ],
 "metadata": {
  "kernelspec": {
   "display_name": "Python 3",
   "language": "python",
   "name": "python3"
  },
  "language_info": {
   "codemirror_mode": {
    "name": "ipython",
    "version": 3
   },
   "file_extension": ".py",
   "mimetype": "text/x-python",
   "name": "python",
   "nbconvert_exporter": "python",
   "pygments_lexer": "ipython3",
   "version": "3.6.4"
  }
 },
 "nbformat": 4,
 "nbformat_minor": 2
}
