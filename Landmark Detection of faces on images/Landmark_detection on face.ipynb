{
 "cells": [
  {
   "cell_type": "code",
   "execution_count": 1,
   "metadata": {},
   "outputs": [],
   "source": [
    "#import the libraries\n",
    "import cv2\n",
    "import numpy as np\n",
    "import dlib"
   ]
  },
  {
   "cell_type": "code",
   "execution_count": 2,
   "metadata": {},
   "outputs": [],
   "source": [
    "#importing the 68 landmark predictor\n",
    "Predictor_path = r'C:\\\\Python\\\\shape_predictor_68_face_landmarks.dat'\n",
    "detector = dlib.get_frontal_face_detector()\n",
    "predictor = dlib.shape_predictor(Predictor_path)"
   ]
  },
  {
   "cell_type": "code",
   "execution_count": 3,
   "metadata": {},
   "outputs": [],
   "source": [
    "image = cv2.imread(r'C:\\\\Users\\\\Dell\\\\Desktop\\\\Put in Github_all_our_tries\\\\Landmark Detection\\image\\1.jpg')\n",
    "gray = cv2.cvtColor(image, cv2.COLOR_BGR2GRAY)"
   ]
  },
  {
   "cell_type": "code",
   "execution_count": 4,
   "metadata": {},
   "outputs": [],
   "source": [
    "rects = detector(gray, 1)\n",
    "\n",
    "def convert_rect_to_bounding_box(rect):\n",
    "    #take the rectangle from the output of dlib and convert it into (x,y,w,h) as we normally do with opencv\n",
    "    x = rect.left()\n",
    "    y = rect.top()\n",
    "    w = rect.right() - x\n",
    "    h = rect.bottom() - y\n",
    "    \n",
    "    return (x,y,w,h)\n",
    "\n",
    "def shape_to_numpy_matrix(shape):\n",
    "    #initialise the list of (x,y) coordinates\n",
    "    coords = np.zeros((68,2), dtype = 'int')\n",
    "    \n",
    "    for i in range(0,68):\n",
    "        coords[i] = (shape.part(i).x, shape.part(i).y)\n",
    "    \n",
    "    return coords\n",
    "\n",
    "#loop over the face detections\n",
    "for i,rect in enumerate(rects):\n",
    "    shape = predictor(gray, rect) #determine the facial landmark\n",
    "    shape = shape_to_numpy_matrix(shape) #converting (x,y) co-ordinate into matrix\n",
    "    (x,y,w,h) = convert_rect_to_bounding_box(rect)\n",
    "    cv2.rectangle(image, (x,y), (x+w, y+h), (0,255,0), 2)\n",
    "    cv2.putText(image, 'Face {}'.format(i+1), (x-10, y-10), cv2.FONT_HERSHEY_SCRIPT_COMPLEX, 0.5, (0,0,255), 2)\n",
    "    \n",
    "    for (x,y) in shape:\n",
    "        cv2.circle(image, (x,y), 1, (0,0,255), -1)\n",
    "cv2.imshow('output', image)\n",
    "cv2.imwrite('image with landmark.jpg', image)\n",
    "cv2.waitKey(0)\n",
    "cv2.destroyAllWindows()                  \n",
    "                  \n",
    "                  \n",
    "                  \n",
    "    "
   ]
  }
 ],
 "metadata": {
  "kernelspec": {
   "display_name": "Python 3",
   "language": "python",
   "name": "python3"
  },
  "language_info": {
   "codemirror_mode": {
    "name": "ipython",
    "version": 3
   },
   "file_extension": ".py",
   "mimetype": "text/x-python",
   "name": "python",
   "nbconvert_exporter": "python",
   "pygments_lexer": "ipython3",
   "version": "3.6.4"
  }
 },
 "nbformat": 4,
 "nbformat_minor": 2
}
