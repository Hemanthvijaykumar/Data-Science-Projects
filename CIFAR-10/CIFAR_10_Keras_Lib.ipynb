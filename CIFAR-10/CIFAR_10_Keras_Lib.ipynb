{
  "nbformat": 4,
  "nbformat_minor": 0,
  "metadata": {
    "colab": {
      "name": "CIFAR-10_Keras_Lib.ipynb",
      "version": "0.3.2",
      "provenance": [],
      "collapsed_sections": []
    },
    "kernelspec": {
      "name": "python3",
      "display_name": "Python 3"
    },
    "accelerator": "GPU"
  },
  "cells": [
    {
      "metadata": {
        "id": "yDLSAepaGW_A",
        "colab_type": "code",
        "colab": {}
      },
      "cell_type": "code",
      "source": [
        "import numpy as np\n",
        "import pandas as pd\n",
        "import matplotlib.pyplot as plt\n",
        "import seaborn as sns\n",
        "%matplotlib inline"
      ],
      "execution_count": 0,
      "outputs": []
    },
    {
      "metadata": {
        "id": "mDO3EnLKGqi6",
        "colab_type": "code",
        "colab": {}
      },
      "cell_type": "code",
      "source": [
        "from keras.datasets import cifar10"
      ],
      "execution_count": 0,
      "outputs": []
    },
    {
      "metadata": {
        "id": "OL0orEguG8uX",
        "colab_type": "code",
        "colab": {}
      },
      "cell_type": "code",
      "source": [
        "(X_train, y_train), (X_test, y_test) = cifar10.load_data()"
      ],
      "execution_count": 0,
      "outputs": []
    },
    {
      "metadata": {
        "id": "TGzgzNibHNb2",
        "colab_type": "code",
        "colab": {
          "base_uri": "https://localhost:8080/",
          "height": 34
        },
        "outputId": "46215929-cdff-4251-a8c5-7677f4009533"
      },
      "cell_type": "code",
      "source": [
        "X_train.shape"
      ],
      "execution_count": 57,
      "outputs": [
        {
          "output_type": "execute_result",
          "data": {
            "text/plain": [
              "(50000, 32, 32, 3)"
            ]
          },
          "metadata": {
            "tags": []
          },
          "execution_count": 57
        }
      ]
    },
    {
      "metadata": {
        "id": "E8gPJaQJH030",
        "colab_type": "text"
      },
      "cell_type": "markdown",
      "source": [
        "We can see that there are 50000 images in the training set and it is of the dimension (32, 32) and 3 of channels"
      ]
    },
    {
      "metadata": {
        "id": "NPshZXZuHyxo",
        "colab_type": "code",
        "colab": {
          "base_uri": "https://localhost:8080/",
          "height": 34
        },
        "outputId": "1a7d283e-77f8-4718-8151-03b9dca88b80"
      },
      "cell_type": "code",
      "source": [
        "X_test.shape"
      ],
      "execution_count": 58,
      "outputs": [
        {
          "output_type": "execute_result",
          "data": {
            "text/plain": [
              "(10000, 32, 32, 3)"
            ]
          },
          "metadata": {
            "tags": []
          },
          "execution_count": 58
        }
      ]
    },
    {
      "metadata": {
        "id": "zR-W3xwhIGyF",
        "colab_type": "text"
      },
      "cell_type": "markdown",
      "source": [
        "We can see that for the test set it has 10000 images and it has same dimension as of training"
      ]
    },
    {
      "metadata": {
        "id": "lVMa54SWICx7",
        "colab_type": "code",
        "colab": {}
      },
      "cell_type": "code",
      "source": [
        "img_rows = 32\n",
        "img_cols = 32"
      ],
      "execution_count": 0,
      "outputs": []
    },
    {
      "metadata": {
        "id": "qsE18JKjIdJ5",
        "colab_type": "code",
        "colab": {}
      },
      "cell_type": "code",
      "source": [
        "from keras import backend as K\n",
        "\n",
        "if K.image_data_format() == 'channel_first':\n",
        "  X_train = X_train.reshape(X_train.shape[0], 3, img_rows, img_cols).astype('float32')\n",
        "  X_test = X_test.reshape(X_test.shape[0], 3, img_rows, img_cols).astype('float32')\n",
        "  input_size = (3, img_rows, img_cols)\n",
        "else:\n",
        "  X_train = X_train.reshape(X_train.shape[0], img_rows, img_cols, 3).astype('float32')\n",
        "  X_test = X_test.reshape(X_test.shape[0], img_rows, img_cols, 3).astype('float32')\n",
        "  input_size = (img_rows, img_cols, 3)"
      ],
      "execution_count": 0,
      "outputs": []
    },
    {
      "metadata": {
        "id": "MZZJklwSLH4D",
        "colab_type": "code",
        "colab": {
          "base_uri": "https://localhost:8080/",
          "height": 34
        },
        "outputId": "7cf2391a-45e4-4248-f438-fd4d2093574d"
      },
      "cell_type": "code",
      "source": [
        "input_size"
      ],
      "execution_count": 61,
      "outputs": [
        {
          "output_type": "execute_result",
          "data": {
            "text/plain": [
              "(32, 32, 3)"
            ]
          },
          "metadata": {
            "tags": []
          },
          "execution_count": 61
        }
      ]
    },
    {
      "metadata": {
        "id": "0M2JgcsuLMrV",
        "colab_type": "text"
      },
      "cell_type": "markdown",
      "source": [
        "It seems like the input image is of size (32,32,3) with channel is at the last"
      ]
    },
    {
      "metadata": {
        "id": "S8wOTU3DLeck",
        "colab_type": "text"
      },
      "cell_type": "markdown",
      "source": [
        "## **Convlolutional Neural Networks Approach**"
      ]
    },
    {
      "metadata": {
        "id": "jfsfWX33LKEg",
        "colab_type": "code",
        "colab": {}
      },
      "cell_type": "code",
      "source": [
        "from keras.models import Sequential\n",
        "from keras.layers import Dense\n",
        "from keras.layers import Conv2D\n",
        "from keras.layers import MaxPooling2D\n",
        "from keras.layers import Flatten"
      ],
      "execution_count": 0,
      "outputs": []
    },
    {
      "metadata": {
        "id": "_H0Dd5iZMI05",
        "colab_type": "code",
        "colab": {}
      },
      "cell_type": "code",
      "source": [
        "X_train = X_train/255\n",
        "X_test = X_test/255"
      ],
      "execution_count": 0,
      "outputs": []
    },
    {
      "metadata": {
        "id": "ioWNU8mZMQMk",
        "colab_type": "code",
        "colab": {}
      },
      "cell_type": "code",
      "source": [
        "#one hot encoding\n",
        "from keras.utils import np_utils\n",
        "y_train = np_utils.to_categorical(y_train)\n",
        "y_test = np_utils.to_categorical(y_test)"
      ],
      "execution_count": 0,
      "outputs": []
    },
    {
      "metadata": {
        "id": "dYI6zF8SM1VT",
        "colab_type": "code",
        "colab": {
          "base_uri": "https://localhost:8080/",
          "height": 34
        },
        "outputId": "9a1ff606-4438-4921-9b46-d2dc9c548803"
      },
      "cell_type": "code",
      "source": [
        "y_train.shape"
      ],
      "execution_count": 65,
      "outputs": [
        {
          "output_type": "execute_result",
          "data": {
            "text/plain": [
              "(50000, 10)"
            ]
          },
          "metadata": {
            "tags": []
          },
          "execution_count": 65
        }
      ]
    },
    {
      "metadata": {
        "id": "CvneeDkONMnB",
        "colab_type": "text"
      },
      "cell_type": "markdown",
      "source": [
        "It looks like the dataset has 10 classes"
      ]
    },
    {
      "metadata": {
        "id": "ZYILBGzXM-hE",
        "colab_type": "code",
        "colab": {}
      },
      "cell_type": "code",
      "source": [
        "num_classes = y_train.shape[1]"
      ],
      "execution_count": 0,
      "outputs": []
    },
    {
      "metadata": {
        "id": "05pN_H1dNVQd",
        "colab_type": "code",
        "colab": {}
      },
      "cell_type": "code",
      "source": [
        "#building model\n",
        "\n",
        "def build_classifier():\n",
        "  \n",
        "  #initialise the CNN\n",
        "  classifier = Sequential()\n",
        "  \n",
        "  #first conv layer\n",
        "  classifier.add(Conv2D(30, kernel_size=(5,5), input_shape=input_size, activation='relu'))\n",
        "  \n",
        "  #first pooling layer\n",
        "  classifier.add(MaxPooling2D(pool_size=(2,2)))\n",
        "  \n",
        "  #second conv layer\n",
        "  classifier.add(Conv2D(15, kernel_size=(5,5), activation='relu'))\n",
        "  \n",
        "  #second pooling layer\n",
        "  classifier.add(MaxPooling2D(pool_size=(2,2)))\n",
        "  \n",
        "  #flatten\n",
        "  classifier.add(Flatten())\n",
        "  \n",
        "  classifier.add(Dense(128, activation='relu'))\n",
        "  classifier.add(Dense(50, activation='relu'))\n",
        "  classifier.add(Dense(num_classes, activation='softmax'))\n",
        "  classifier.compile(loss='categorical_crossentropy', optimizer='adam', metrics=['accuracy'])\n",
        "  return classifier"
      ],
      "execution_count": 0,
      "outputs": []
    },
    {
      "metadata": {
        "id": "dEtjTr_gTWL7",
        "colab_type": "code",
        "colab": {
          "base_uri": "https://localhost:8080/",
          "height": 374
        },
        "outputId": "0bca16b2-286e-4235-bb64-27ee3c928418"
      },
      "cell_type": "code",
      "source": [
        "classifier_CNN = build_classifier()\n",
        "history = classifier_CNN.fit(X_train, y_train, validation_data=(X_test, y_test), batch_size=300, epochs=10, verbose=2)"
      ],
      "execution_count": 70,
      "outputs": [
        {
          "output_type": "stream",
          "text": [
            "Train on 50000 samples, validate on 10000 samples\n",
            "Epoch 1/10\n",
            " - 99s - loss: 1.7803 - acc: 0.3453 - val_loss: 1.5741 - val_acc: 0.4250\n",
            "Epoch 2/10\n",
            " - 99s - loss: 1.4783 - acc: 0.4624 - val_loss: 1.4053 - val_acc: 0.4926\n",
            "Epoch 3/10\n",
            " - 100s - loss: 1.3635 - acc: 0.5105 - val_loss: 1.3581 - val_acc: 0.5125\n",
            "Epoch 4/10\n",
            " - 99s - loss: 1.2835 - acc: 0.5412 - val_loss: 1.2988 - val_acc: 0.5330\n",
            "Epoch 5/10\n",
            " - 98s - loss: 1.2261 - acc: 0.5631 - val_loss: 1.2343 - val_acc: 0.5570\n",
            "Epoch 6/10\n",
            " - 101s - loss: 1.1732 - acc: 0.5829 - val_loss: 1.1694 - val_acc: 0.5852\n",
            "Epoch 7/10\n",
            " - 100s - loss: 1.1207 - acc: 0.6021 - val_loss: 1.1480 - val_acc: 0.5887\n",
            "Epoch 8/10\n",
            " - 100s - loss: 1.0845 - acc: 0.6157 - val_loss: 1.1064 - val_acc: 0.6125\n",
            "Epoch 9/10\n",
            " - 100s - loss: 1.0449 - acc: 0.6302 - val_loss: 1.1197 - val_acc: 0.6039\n",
            "Epoch 10/10\n",
            " - 100s - loss: 1.0179 - acc: 0.6379 - val_loss: 1.0766 - val_acc: 0.6229\n"
          ],
          "name": "stdout"
        }
      ]
    },
    {
      "metadata": {
        "id": "bXv07morZLwo",
        "colab_type": "text"
      },
      "cell_type": "markdown",
      "source": [
        "We have got the accuracy of 63% with valiation accuracy of around 62% with batch size of 300 and epoch 10. With further improvment in epochs and acitvation fucntion and adding more layers and more nuerons in the hidden layers can improve our performance. Keeping computational cost in mind we are not going to do it here."
      ]
    },
    {
      "metadata": {
        "id": "rQd69aoVUDoW",
        "colab_type": "code",
        "colab": {
          "base_uri": "https://localhost:8080/",
          "height": 34
        },
        "outputId": "ad704964-33ad-4e8c-fec4-fb8e7151cdd6"
      },
      "cell_type": "code",
      "source": [
        "scores = classifier_CNN.evaluate(X_test, y_test, verbose=1)"
      ],
      "execution_count": 71,
      "outputs": [
        {
          "output_type": "stream",
          "text": [
            "10000/10000 [==============================] - 10s 955us/step\n"
          ],
          "name": "stdout"
        }
      ]
    },
    {
      "metadata": {
        "id": "k6KPtnUNaNwr",
        "colab_type": "code",
        "colab": {
          "base_uri": "https://localhost:8080/",
          "height": 34
        },
        "outputId": "9704607a-326d-42a4-c689-b114f9ea7020"
      },
      "cell_type": "code",
      "source": [
        "scores"
      ],
      "execution_count": 72,
      "outputs": [
        {
          "output_type": "execute_result",
          "data": {
            "text/plain": [
              "[1.076622550201416, 0.6229]"
            ]
          },
          "metadata": {
            "tags": []
          },
          "execution_count": 72
        }
      ]
    },
    {
      "metadata": {
        "id": "IyvaaY2faSoj",
        "colab_type": "code",
        "colab": {
          "base_uri": "https://localhost:8080/",
          "height": 571
        },
        "outputId": "b225e26d-120b-4d1e-d9b4-10cec88a7e45"
      },
      "cell_type": "code",
      "source": [
        "#history plot for accyracy\n",
        "plt.plot(history.history['acc'])\n",
        "plt.plot(history.history['val_acc'])\n",
        "plt.title(\"Model Accuracy\")\n",
        "plt.xlabel(\"Epoch\")\n",
        "plt.ylabel(\"Accuracy\")\n",
        "plt.legend([\"train\", \"test\"], loc=\"upper left\")\n",
        "plt.show()\n",
        "\n",
        "# history plot for accuracy\n",
        "plt.plot(history.history[\"loss\"])\n",
        "plt.plot(history.history[\"val_loss\"])\n",
        "plt.title(\"Model Loss\")\n",
        "plt.xlabel(\"Epoch\")\n",
        "plt.ylabel(\"Loss\")\n",
        "plt.legend([\"train\", \"test\"], loc=\"upper left\")\n",
        "plt.show()"
      ],
      "execution_count": 74,
      "outputs": [
        {
          "output_type": "display_data",
          "data": {
            "image/png": "[encoded data removed]",
            "text/plain": [
              "<matplotlib.figure.Figure at 0x7fba523a1b70>"
            ]
          },
          "metadata": {
            "tags": []
          }
        },
        {
          "output_type": "display_data",
          "data": {
            "image/png": "[encoded data removed]",
            "text/plain": [
              "<matplotlib.figure.Figure at 0x7fba5238f390>"
            ]
          },
          "metadata": {
            "tags": []
          }
        }
      ]
    },
    {
      "metadata": {
        "id": "HceN5pyjaxnT",
        "colab_type": "text"
      },
      "cell_type": "markdown",
      "source": [
        "We can see that the both the training and test are around 63 in graph."
      ]
    }
  ]
}